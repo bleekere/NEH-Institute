{
 "cells": [
  {
   "cell_type": "markdown",
   "metadata": {},
   "source": [
    "# NEH Institute"
   ]
  },
  {
   "cell_type": "markdown",
   "metadata": {},
   "source": [
    "## planning week 2 [suggestion]"
   ]
  },
  {
   "cell_type": "markdown",
   "metadata": {},
   "source": [
    "Time/Day | Monday | Tuesday | Wednesday | Thursday | Friday |\n",
    "--- | --- | --- | --- | --- | --- | \n",
    "9:00 - 10:00 | Modelling (basic principles) | Modelling (transcriptions) | Modelling (collation) | Modelling (annotations) | Modelling (queries and visualization) \n",
    "10:30 - 11:00 | Modelling (XML) | transcriptions / markup 1 | transcr./markup 2 | transcr./markup 3 | markup/annotation\n",
    "11:30 - 12:30 | Modelling (XML/TAG) | markup/tokenization 1 | tokenization 2 | annotation 1 | queries 1\n",
    "12:30 - 2:00 | lunch | lunch | lunch | lunch | lunch\n",
    "2:00 - 3:30 | Modelling (TAG) | normalization | collation | annotation 2 | queries 2\n",
    "3:30 - 4:00 | tea | tea | tea | tea | tea\n",
    "4:00 - 5:30 | review | review | collation | review | visualization/review"
   ]
  },
  {
   "cell_type": "markdown",
   "metadata": {},
   "source": [
    "Note: each day starts with a recap on modelling, focused on the topic of the day (respectively tokenization, collation, annotation, queries), and ends with time for review."
   ]
  },
  {
   "cell_type": "code",
   "execution_count": null,
   "metadata": {
    "collapsed": true
   },
   "outputs": [],
   "source": []
  }
 ],
 "metadata": {
  "anaconda-cloud": {},
  "kernelspec": {
   "display_name": "Python [Root]",
   "language": "python",
   "name": "Python [Root]"
  },
  "language_info": {
   "codemirror_mode": {
    "name": "ipython",
    "version": 3
   },
   "file_extension": ".py",
   "mimetype": "text/x-python",
   "name": "python",
   "nbconvert_exporter": "python",
   "pygments_lexer": "ipython3",
   "version": "3.5.2"
  }
 },
 "nbformat": 4,
 "nbformat_minor": 0
}
